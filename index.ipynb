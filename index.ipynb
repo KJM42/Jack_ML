{
 "cells": [
  {
   "cell_type": "markdown",
   "metadata": {},
   "source": [
    "## 1. Set up your computer with all the stuff you'll need - <a href=\"set-up.html\">click here</a>\n",
    "## 2. Train your first neural network - <a href=\"simple_ANN.html\">click here</a>\n",
    "## 3. Getting to grips with convolutional neural networks - <a href=\"CNN_classifier.html\">click here</a>"
   ]
  },
  {
   "cell_type": "markdown",
   "metadata": {},
   "source": [
    "<br><center><b>You can download the jupyter notebooks and try out the code for yourself at my <a href=\"https://github.com/slack-a-jack/ml-getting-started/tutorial_notebooks\">github repo.</a></b></center>\n",
    "\n",
    "<center> Let me know if you spot any mistakes or typos or if you get error codes <br>on your machine by contacting <em>j.radford.1@research.gla.ac.uk.</em> </center>\n",
    "\n",
    "\n",
    "### <center>Keep up to date with research:</center>\n",
    "<center><a href=\"http://www.physics.gla.ac.uk/XtremeLight/index.html\">Extreme Light Group - University of Glasgow</a></center>\n",
    "<center><a href=\"https://twitter.com/GU_ExtremeLight\">Twitter: Extreme Light Group</a></center>\n",
    "<center><a href=\"https://twitter.com/JackRadford95\">Twitter: Jack </a></center>\n"
   ]
  }
 ],
 "metadata": {
  "kernelspec": {
   "display_name": "Python 3",
   "language": "python",
   "name": "python3"
  },
  "language_info": {
   "codemirror_mode": {
    "name": "ipython",
    "version": 3
   },
   "file_extension": ".py",
   "mimetype": "text/x-python",
   "name": "python",
   "nbconvert_exporter": "python",
   "pygments_lexer": "ipython3",
   "version": "3.7.7"
  }
 },
 "nbformat": 4,
 "nbformat_minor": 4
}
