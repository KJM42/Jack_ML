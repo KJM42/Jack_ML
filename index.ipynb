{
 "cells": [
  {
   "cell_type": "markdown",
   "metadata": {},
   "source": [
    "# Getting started with machine learning in python\n",
    "\n",
    "\n",
    "*J. Radford (j.radford.1@research.gla.ac.uk)* <br>\n",
    "\n",
    "<a href=http://www.physics.gla.ac.uk/XtremeLight/index.html>Extreme Light group - Univ. of Glasgow </a>"
   ]
  },
  {
   "cell_type": "markdown",
   "metadata": {},
   "source": [
    "## 1. Set up your computer with all the stuff you'll need - <a href=\"setup.html\">click here</a>\n",
    "## 2. Train your first neural network - <a href=\"simple_ANN.html\">click here</a>\n",
    "## 3. Getting to grips with convolutional neural networks - <a href=\"CNN_classifer.html\">click here</a>"
   ]
  },
  {
   "cell_type": "markdown",
   "metadata": {},
   "source": [
    "Let me know if you spot any mistakes or typos or if you get error codes on your machinen by contacting the email address at the top of the page. You can download the jupyter notebooks at my <a href=\"https://github.com/slack-a-jack/ml-getting-started\">github repo.</a>"
   ]
  }
 ],
 "metadata": {
  "kernelspec": {
   "display_name": "Python 3",
   "language": "python",
   "name": "python3"
  },
  "language_info": {
   "codemirror_mode": {
    "name": "ipython",
    "version": 3
   },
   "file_extension": ".py",
   "mimetype": "text/x-python",
   "name": "python",
   "nbconvert_exporter": "python",
   "pygments_lexer": "ipython3",
   "version": "3.7.7"
  }
 },
 "nbformat": 4,
 "nbformat_minor": 4
}
