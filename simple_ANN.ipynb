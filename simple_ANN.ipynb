{
 "cells": [
  {
   "cell_type": "code",
   "execution_count": 1,
   "metadata": {},
   "outputs": [
    {
     "name": "stderr",
     "output_type": "stream",
     "text": [
      "Using TensorFlow backend.\n"
     ]
    }
   ],
   "source": [
    "import numpy as np\n",
    "import matplotlib.pyplot as plt\n",
    "\n",
    "import tensorflow as tf\n",
    "import keras as k\n",
    "from keras.models import Sequential\n",
    "from keras.layers import Dense, Activation\n",
    "from keras import Input, Model"
   ]
  },
  {
   "cell_type": "markdown",
   "metadata": {},
   "source": [
    "# My First Deep Artificial Neural Network\n",
    "*J. Radford (j.radford.1@research.gla.ac.uk)* <br>\n",
    "\n",
    "Extreme Light group - Univ. of Glasgow <br>\n",
    "_(http://www.physics.gla.ac.uk/XtremeLight/index.html)_\n",
    "\n",
    "<span style=\"color:gray\"><em>Adapted from A. Turpin's ANN intro notebook (16/06/20)</em></span>\n",
    "\n",
    "\n",
    "Now we have everything installed, **make sure you have the modules imported in the cell above** and lets train the common example of classifying images of handwritten MNIST digits and then apply our knowledge to the regression problem of unscrambling images.\n",
    "\n",
    "# *Contents*\n",
    "1. Load and visualise data\n",
    "2. Define the model\n",
    "3. Train the model\n",
    "4. Evaluate the performance of the model\n",
    "5. Regression example of denoising images\n"
   ]
  },
  {
   "cell_type": "markdown",
   "metadata": {},
   "source": [
    "# 1. First we import the training and test data. \n",
    "\n",
    "``training data`` - In *supervised learning* the neural network learns by example. We give some training data and then compare the neural network result with the true label. In the case of MNIST classification the images of handwritten number are the input and the label is the output which is just the number that is really in the image. \n",
    "\n",
    "``testing data`` - The test data is not used in the training process. We deliberately separate some of our known examples to see how well the model performs after it's done training.\n"
   ]
  },
  {
   "cell_type": "code",
   "execution_count": 2,
   "metadata": {},
   "outputs": [
    {
     "name": "stdout",
     "output_type": "stream",
     "text": [
      "x_train: (60000, 28, 28) \n",
      "y_train: (60000,) \n",
      "x_test : (10000, 28, 28) \n",
      "y_test : (10000,)\n"
     ]
    }
   ],
   "source": [
    "# load data\n",
    "(x_train, y_train), (x_test, y_test) = k.datasets.mnist.load_data()\n",
    "\n",
    "# show shape of the data\n",
    "print('x_train:', x_train.shape,\n",
    "     '\\ny_train:', y_train.shape,\n",
    "     '\\nx_test :', x_test.shape,\n",
    "     '\\ny_test :', y_test.shape\n",
    "     )"
   ]
  },
  {
   "cell_type": "markdown",
   "metadata": {},
   "source": [
    "- Following convention the inputs images are ``x`` and the output labels are ``y``.\n",
    "\n",
    "- From the shape we can see that there are 60,000 training images of size (28x28) pixels and then 60,000 corresponsing labels which tell us the true value of the handwritten image.\n",
    "\n",
    "- In the testing set there are 10,000 images and labels for us to evaluate the performance of our trained model. There is no rule on how much test data is required but I always aim for around 10% of the total data, remember the more training data we use the better our model will learn.\n",
    "\n",
    "Before we go any further lets look at the data in more detail:"
   ]
  },
  {
   "cell_type": "code",
   "execution_count": 3,
   "metadata": {},
   "outputs": [
    {
     "name": "stdout",
     "output_type": "stream",
     "text": [
      "min(x): 0 \n",
      "max(x): 255 \n",
      "min(y) : 0 \n",
      "max(y) : 9\n"
     ]
    },
    {
     "data": {
      "image/png": "[encoded data removed]",
      "text/plain": [
       "<Figure size 432x288 with 5 Axes>"
      ]
     },
     "metadata": {
      "needs_background": "light"
     },
     "output_type": "display_data"
    }
   ],
   "source": [
    "# show the images with the labels as titles\n",
    "for i in range(5):\n",
    "    plt.subplot(1,5,i+1)\n",
    "    \n",
    "    # plot the first 5 training images\n",
    "    plt.imshow(x_train[i])\n",
    "    \n",
    "    # use the first 5 labels as titles\n",
    "    plt.title(y_train[i])\n",
    "    \n",
    "    #turn off the axis to make it easier to see\n",
    "    plt.axis('off')\n",
    "    \n",
    "# what range of values are in the images\n",
    "print('min(x):', x_train.min(),\n",
    "     '\\nmax(x):', x_train.max(),\n",
    "     '\\nmin(y) :', y_test.min(),\n",
    "     '\\nmax(y) :', y_test.max()\n",
    "     )"
   ]
  },
  {
   "cell_type": "markdown",
   "metadata": {},
   "source": [
    "- We can see that loading in the images has already randomised the order for us.\n",
    "- The images have values between 0->255 but we should rescale this to be between 0->1 for training neural networks. This is because having large numbers can cause the weights of our model to explode towards infinity.\n",
    "- There are 10 label classes from 0->9\n",
    "\n",
    "Now we need to normalise our images:"
   ]
  },
  {
   "cell_type": "code",
   "execution_count": 4,
   "metadata": {},
   "outputs": [
    {
     "name": "stdout",
     "output_type": "stream",
     "text": [
      "X_train: (60000, 784) \n",
      "X_test: (10000, 784)\n"
     ]
    }
   ],
   "source": [
    "# Define some useful variables\n",
    "ntrain = x_train.shape[0] # no. of training images\n",
    "ntest = x_test.shape[0] # no. of test images\n",
    "dx = x_train.shape[2] # pixels in x-direction\n",
    "dy = x_train.shape[1] # pixels in y-direction\n",
    "\n",
    "# normalise the images between 0->1\n",
    "x_train = x_train/255\n",
    "x_test = x_test/255\n",
    "\n",
    "# reshape images to be row vectors of a large 2D matrix\n",
    "inp_size = dy*dx\n",
    "X_train = x_train.reshape((ntrain, inp_size)).astype('float')\n",
    "X_test = x_test.reshape((ntest, inp_size)).astype('float')\n",
    "\n",
    "print('X_train:', X_train.shape,\n",
    "     '\\nX_test:', X_test.shape\n",
    "     )"
   ]
  },
  {
   "cell_type": "markdown",
   "metadata": {},
   "source": [
    "# 2. Define the model\n",
    "\n",
    "There are a two methods for defining a model to be aware of:\n",
    "- Functional API\n",
    "- Sequential API"
   ]
  },
  {
   "cell_type": "markdown",
   "metadata": {},
   "source": [
    "## Functional API"
   ]
  },
  {
   "cell_type": "code",
   "execution_count": 5,
   "metadata": {},
   "outputs": [
    {
     "name": "stdout",
     "output_type": "stream",
     "text": [
      "Model: \"Fn_API\"\n",
      "_________________________________________________________________\n",
      "Layer (type)                 Output Shape              Param #   \n",
      "=================================================================\n",
      "inp_image (InputLayer)       (None, 784)               0         \n",
      "_________________________________________________________________\n",
      "dense_1 (Dense)              (None, 32)                25120     \n",
      "_________________________________________________________________\n",
      "activ_1 (Activation)         (None, 32)                0         \n",
      "_________________________________________________________________\n",
      "dense_2 (Dense)              (None, 16)                528       \n",
      "_________________________________________________________________\n",
      "out (Dense)                  (None, 10)                170       \n",
      "=================================================================\n",
      "Total params: 25,818\n",
      "Trainable params: 25,818\n",
      "Non-trainable params: 0\n",
      "_________________________________________________________________\n"
     ]
    }
   ],
   "source": [
    "# Clear any previously defined models\n",
    "if 'model' in locals(): \n",
    "    del model\n",
    "    k.backend.clear_session()\n",
    "\n",
    "# Option 1: functional API\n",
    "\n",
    "# define layers\n",
    "inp = Input(shape=(inp_size,), name='inp_image')\n",
    "d1 = Dense(32, name='dense_1')(inp)\n",
    "a1 = Activation('sigmoid', name='activ_1')(d1)\n",
    "d2 = Dense(16, activation='linear', name='dense_2')(a1)\n",
    "out = Dense(10, activation='softmax', name='out')(d2)\n",
    "\n",
    "# Create model\n",
    "model1 = Model(inputs=inp, outputs=out, name='Fn_API')\n",
    "model1.summary()"
   ]
  },
  {
   "cell_type": "markdown",
   "metadata": {},
   "source": [
    "``Input`` - This is the first layer that has a shape to match the number of inputs. In our case each pixel of the input images are an input.\n",
    "\n",
    "``Dense`` - A dense layer means that each input is connected to every node of the next layer. We've defined ``d1`` to be the second layer which has 64 nodes. Therefore every pixel is connected to all 64 nodes of the next layer and each connection has a *weight* which is a scalar multplication that will be learned.\n",
    "\n",
    "``Activation`` - Each node in a layer sums it's weighted inputs from the previous layer (remember the *Bias* is also learned and during training and included in the sum) and an activation function determined what value will be passed to the next layer. We've chosen a ``sigmoid`` function in the first layer because it is between zero and one which makes it useful when we want to view the output as a probability of belonging to a class. The next layer is a ``linear`` function which I chose after trying a few and it seems to speed up training. Since we output probabilities the final layer is a ``softmax`` which will ensure all the outputs sum to one.\n",
    "\n",
    "<center><img src=\"https://miro.medium.com/max/1192/1*4ZEDRpFuCIpUjNgjDdT2Lg.png\" width=500 /></center>\n",
    "<center><em> Common activation functions used in Neural Networks </em></center>\n",
    "    \n",
    "``Model`` - This Keras function takes the input and output layers and creates the model for us. From this info it knows all the other layers since we use the brackets after defining each layer to specify what the input layer was. <br>The idea is to follow this structure: \n",
    "\n",
    "```python\n",
    "layer1 = Input()\n",
    "layer2 = Dense()(layer1)\n",
    "layer3 = Activation()(layer2)\n",
    "layer4 = Dense()(layer3)\n",
    "```\n",
    "Note that ``Activation`` layers aren't always necessary we can define an activation function as a parameter in the ``Dense`` function like we did in layer ``d2`` in the code cell above.\n",
    "\n",
    "``model.summary()`` - Calling the summary function ensures our model is in the sequence we expect and contain all the layers we specified. It's a good way to keep track of the size of each layer and hence, the number of parameters we'll need to learn. Having a large number of parameters makes the training slower and is limited by the computer hardware. This is why having lots of RAM and large memory capacity GPU's are beneficial in machine learning.\n",
    "\n",
    "<img src=\"https://thumbs.gfycat.com/WeepyConcreteGemsbok-size_restricted.gif\" width=500/>\n",
    "<center><em>A visual representation of the model we're building. <br>(see the link for a great intro of neural networks: <a href=\"https://youtu.be/aircAruvnKk\">3blue1brown - Neural Networks</a>) </em></center>"
   ]
  },
  {
   "cell_type": "code",
   "execution_count": 6,
   "metadata": {},
   "outputs": [
    {
     "name": "stdout",
     "output_type": "stream",
     "text": [
      "Model: \"Seq_API\"\n",
      "_________________________________________________________________\n",
      "Layer (type)                 Output Shape              Param #   \n",
      "=================================================================\n",
      "dense_1 (Dense)              (None, 64)                50240     \n",
      "_________________________________________________________________\n",
      "dense_2 (Dense)              (None, 64)                4160      \n",
      "_________________________________________________________________\n",
      "dense_3 (Dense)              (None, 1)                 65        \n",
      "=================================================================\n",
      "Total params: 54,465\n",
      "Trainable params: 54,465\n",
      "Non-trainable params: 0\n",
      "_________________________________________________________________\n"
     ]
    }
   ],
   "source": [
    "# Option 2: Sequential API\n",
    "model2 = Sequential(name='Seq_API')\n",
    "model2.add(Dense(64, input_shape=(inp_size,), activation='relu'))\n",
    "model2.add(Dense(64, activation='linear'))\n",
    "model2.add(Dense(1))\n",
    "model2.summary()"
   ]
  },
  {
   "cell_type": "markdown",
   "metadata": {},
   "source": [
    "The second method is a bit more intuitive, in this case we made a similar model to before but defined the model class first and then add layers using the ``add`` funtion. We can also avoid the ``add`` function completely and pass all our layers at once like this:"
   ]
  },
  {
   "cell_type": "code",
   "execution_count": 7,
   "metadata": {},
   "outputs": [
    {
     "name": "stdout",
     "output_type": "stream",
     "text": [
      "Model: \"Seq_API\"\n",
      "_________________________________________________________________\n",
      "Layer (type)                 Output Shape              Param #   \n",
      "=================================================================\n",
      "dense_4 (Dense)              (None, 64)                50240     \n",
      "_________________________________________________________________\n",
      "dense_5 (Dense)              (None, 64)                4160      \n",
      "_________________________________________________________________\n",
      "dense_6 (Dense)              (None, 1)                 65        \n",
      "=================================================================\n",
      "Total params: 54,465\n",
      "Trainable params: 54,465\n",
      "Non-trainable params: 0\n",
      "_________________________________________________________________\n"
     ]
    }
   ],
   "source": [
    "# Option 2: Sequential API\n",
    "model2 = Sequential([\n",
    "    Dense(64, input_shape=(inp_size,), activation='relu'),\n",
    "    Dense(64, activation='linear'),\n",
    "    Dense(1)],\n",
    "    name='Seq_API')\n",
    "\n",
    "model2.summary()"
   ]
  },
  {
   "cell_type": "markdown",
   "metadata": {},
   "source": [
    "# 3. Train the model\n",
    "Now we've defined a model, we need to compile it and specify which optimisation technique to use and what the loss function will be. After that, we'll be ready to train.\n",
    "\n",
    "<center><img src=\"https://thumbs.gfycat.com/MiniatureDependentCob-size_restricted.gif\" width=500 /> </center>\n",
    "<center><em>Visualisation of the training process where all of the weights (connections between nodes) <br>are updated by calculating the gradient of the loss function and performing backpropagation</em></center>"
   ]
  },
  {
   "cell_type": "code",
   "execution_count": 8,
   "metadata": {},
   "outputs": [],
   "source": [
    "# Compile the model\n",
    "model1.compile(optimizer='Adam',\n",
    "              loss='sparse_categorical_crossentropy',\n",
    "              metrics=['accuracy'])"
   ]
  },
  {
   "cell_type": "markdown",
   "metadata": {},
   "source": [
    " - ``optimizer`` We're using gradient descent so the step we take in the gradient direction on each iteration needs to be determined. In this case we're using a technique developed in http://arxiv.org/abs/1412.6980 to efficiently solve the problem. There are lots of optimizers to try:\n",
    "     - Adadelta\n",
    "     - Adagrad\n",
    "     - Adam\n",
    "     - Adamax\n",
    "     - Nadam\n",
    "     - RMSprop\n",
    "     - SGD\n",
    "     \n",
    " - ``loss`` This is the objective function we're minimising. Using ``MSE`` (mean squared error) will measure the distance between the network's guess of the label and the actual label.\n",
    " \n",
    " - ``metrics`` We want to monitor how well the model is doing and ``['accuracy']`` will report the percentage of correct predictions as an output when we're training and testing."
   ]
  },
  {
   "cell_type": "code",
   "execution_count": 9,
   "metadata": {},
   "outputs": [
    {
     "name": "stdout",
     "output_type": "stream",
     "text": [
      "Train on 54000 samples, validate on 6000 samples\n",
      "Epoch 1/3\n",
      "54000/54000 [==============================] - 2s 41us/step - loss: 0.6352 - accuracy: 0.8377 - val_loss: 0.2479 - val_accuracy: 0.9340\n",
      "Epoch 2/3\n",
      "54000/54000 [==============================] - 2s 35us/step - loss: 0.2568 - accuracy: 0.9258 - val_loss: 0.1882 - val_accuracy: 0.9482\n",
      "Epoch 3/3\n",
      "54000/54000 [==============================] - 2s 34us/step - loss: 0.2029 - accuracy: 0.9413 - val_loss: 0.1616 - val_accuracy: 0.9528\n"
     ]
    }
   ],
   "source": [
    "# Train the model\n",
    "history = model1.fit(X_train, y_train,\n",
    "                    batch_size=64,\n",
    "                    epochs=3,\n",
    "                    validation_split=0.1\n",
    "                    )"
   ]
  },
  {
   "cell_type": "markdown",
   "metadata": {},
   "source": [
    "``history`` - The output of ``model.fit()`` will give us information about the training progress of the model. It's useful for spotting *over-fitting* and *under-fitting* (<a href=\"https://en.wikipedia.org/wiki/Overfitting\">Wikipedia: Overfitting</a>) which in machine learning terms is linked to the trade-off between *bias (accuracy)* and *variance (precision)* of the model (<a href=\"https://en.wikipedia.org/wiki/Bias%E2%80%93variance_tradeoff\">Wikipedia: Bias-variance trade-off</a>).\n",
    "\n",
    "``batch_size`` - Calculating the gradient for the entire 60,000 training images and labels at once is computationally expensive, so we break it up into chunks of 64 instead. Calculating the gradient ~1,000 times on chunks of 64 is much quicker and we can optimise the computer hardware to accelerate the training.\n",
    "\n",
    "``epochs`` - Often confused with *iterations* which is the evaluation of the gradient over each training batch, the number of epoch is how many times we go through the entire training dataset. We do this because the model might have performed poorly on the first 64 images and found the direction of steepest descent but by the time it has done this on all 54,000 images, it will perform differently on the same first 64 the next time round. The more training data and epoch we have, the better performance we can get out of our model.\n",
    "\n",
    "``validation_split`` - Overfitting is a problem whereby we have a model that performs very well when given the training data but is very sensitive to small changes in the input which might cause bad performance on the test set. Overfitting is often caused by how we defined our model in the first place (e.g. too many nodes or too many layers). To mitigate this we save a small amount of the training data for testing the model as we train (this is not used to update our weights, it only gives us a score for how well the model performs on unseen data). If the validation accuracy is very low but the training accuracy is high then we should try changing some properties of the model until the validation accuracy is as good, or as close as possible, to the training accuracy. The ``validation_split`` parameter is the ratio of training data we want to hold back, remember the more training data we have the better our model is likely to perform, so here we only take 10%. <em>(P.s. Validation data can also be used to tune the hyper-parameters of our model in an autonomous way using methods such as Gaussian Processes. There is a good intro to the GPy library <a href=\"https://www.wouterbulten.nl/blog/tech/first-steps-with-gpy\">here</a> that gives a rough overview of how to do this.)</em>\n"
   ]
  },
  {
   "cell_type": "markdown",
   "metadata": {},
   "source": [
    "# 4. Evaluate the performance of the model\n",
    "\n",
    "Now the model is has trained we can test it's performance on the test set which it has never seen before."
   ]
  },
  {
   "cell_type": "code",
   "execution_count": 10,
   "metadata": {},
   "outputs": [
    {
     "name": "stdout",
     "output_type": "stream",
     "text": [
      "10000/10000 [==============================] - 0s 35us/step\n",
      "loss: 0.188, acc: 0.943\n"
     ]
    }
   ],
   "source": [
    "# Evaluate model on test data\n",
    "results = model1.evaluate(X_test, y_test)\n",
    "print('loss: {:.3f}, acc: {:.3f}'.format(results[0],results[1]))"
   ]
  },
  {
   "cell_type": "markdown",
   "metadata": {},
   "source": [
    "Great, it seems that the accuracy is still very high. We can also get the output probabilities of the model when given some of our test data:"
   ]
  },
  {
   "cell_type": "code",
   "execution_count": 11,
   "metadata": {},
   "outputs": [
    {
     "name": "stdout",
     "output_type": "stream",
     "text": [
      "Probabilities of being in classes for the 1st test image:\n",
      " [1.39239455e-05 7.07055563e-07 1.68469545e-04 7.88579346e-04\n",
      " 1.00799092e-07 3.89134675e-06 4.82487994e-10 9.98722374e-01\n",
      " 1.44222679e-06 3.00431420e-04]\n",
      "\n",
      "The first test image is most likely to be: 7\n"
     ]
    }
   ],
   "source": [
    "# Show the output for the first 5 test images\n",
    "predict = model1.predict(X_test[0:5])\n",
    "\n",
    "# print the probability of lying in each class \n",
    "# for the first test image\n",
    "print(\"Probabilities of being in classes for the 1st test image:\\n\", predict[0])\n",
    "\n",
    "# print the most likely class\n",
    "print('\\nThe first test image is most likely to be:', predict[0].argmax())"
   ]
  },
  {
   "cell_type": "code",
   "execution_count": 12,
   "metadata": {},
   "outputs": [
    {
     "data": {
      "image/png": "[encoded data removed]",
      "text/plain": [
       "<Figure size 720x360 with 5 Axes>"
      ]
     },
     "metadata": {
      "needs_background": "light"
     },
     "output_type": "display_data"
    }
   ],
   "source": [
    "# Plot showing images and predictions\n",
    "plt.figure(figsize=(10,5))\n",
    "for i in range(5):\n",
    "    plt.subplot(1,5,i+1)\n",
    "    plt.imshow(x_test[i])\n",
    "    plt.axis('off')\n",
    "    plt.title('Predicted: {}\\nActual: {}'.format(predict[i].argmax(), y_test[i]))"
   ]
  },
  {
   "cell_type": "markdown",
   "metadata": {},
   "source": [
    "Here's how to visualise the training history, which has information about the accuracy of predicting the training data and the validation data per epoch:"
   ]
  },
  {
   "cell_type": "code",
   "execution_count": 13,
   "metadata": {},
   "outputs": [
    {
     "name": "stdout",
     "output_type": "stream",
     "text": [
      "dict_keys(['val_loss', 'val_accuracy', 'loss', 'accuracy'])\n"
     ]
    }
   ],
   "source": [
    "# what does the history.history dictionary contain?\n",
    "print(history.history.keys())"
   ]
  },
  {
   "cell_type": "code",
   "execution_count": 14,
   "metadata": {},
   "outputs": [
    {
     "data": {
      "text/plain": [
       "<matplotlib.legend.Legend at 0x220deadb408>"
      ]
     },
     "execution_count": 14,
     "metadata": {},
     "output_type": "execute_result"
    },
    {
     "data": {
      "image/png": "[encoded data removed]",
      "text/plain": [
       "<Figure size 1440x360 with 2 Axes>"
      ]
     },
     "metadata": {
      "needs_background": "light"
     },
     "output_type": "display_data"
    }
   ],
   "source": [
    "plt.figure(figsize=(20,5))\n",
    "\n",
    "plt.subplot(1,2,1)\n",
    "# Plot Accuracy\n",
    "plt.plot(history.history['val_accuracy'], label='val_accuracy')\n",
    "plt.plot(history.history['accuracy'], label='accuracy')\n",
    "plt.title('Accuracy')\n",
    "plt.legend()\n",
    "\n",
    "plt.subplot(1,2,2)\n",
    "# Plot loss\n",
    "plt.plot(history.history['val_loss'], label='val_loss')\n",
    "plt.plot(history.history['loss'], label='loss')\n",
    "plt.title('loss')\n",
    "plt.legend()\n"
   ]
  },
  {
   "cell_type": "markdown",
   "metadata": {},
   "source": [
    "The plots aren't very exciting since we only ran for 3 epochs and I chose a very good model for this type of problem but if we were to try changing the loss to ``MSE`` (mean squared error) and run it for 40 epochs then it might give a sttep curve with a nice platau."
   ]
  },
  {
   "cell_type": "markdown",
   "metadata": {},
   "source": [
    "# 5. Regression example of denoising images\n",
    "\n",
    "The task now is to not make a classifier but output an image of the same size as the input. An easy example to demonstrate is image denoising which is a useful tool to have when the noise is non-linear or the statistics of noise are unknown."
   ]
  },
  {
   "cell_type": "code",
   "execution_count": 15,
   "metadata": {},
   "outputs": [
    {
     "name": "stdout",
     "output_type": "stream",
     "text": [
      "progress:0/60000\n",
      "progress:10000/60000\n",
      "progress:20000/60000\n",
      "progress:30000/60000\n",
      "progress:40000/60000\n",
      "progress:50000/60000\n"
     ]
    },
    {
     "data": {
      "image/png": "[encoded data removed]",
      "text/plain": [
       "<Figure size 1440x720 with 10 Axes>"
      ]
     },
     "metadata": {
      "needs_background": "light"
     },
     "output_type": "display_data"
    }
   ],
   "source": [
    "# prepare some noisy images using a\n",
    "# blurring kernel and adding random\n",
    "# values from a normal distribution\n",
    "\n",
    "# import OpenCV (cv2) image toolkit library\n",
    "import cv2\n",
    "\n",
    "# Define the mean and st. dev of normal\n",
    "mean = 0.4\n",
    "std = 0.4\n",
    "\n",
    "# create placeholders for noisy image arrays\n",
    "x_train_noisy = np.zeros(x_train.shape)\n",
    "x_test_noisy = np.zeros(x_test.shape)\n",
    "\n",
    "# create noisy training images\n",
    "for i in range(x_train.shape[0]):\n",
    "    x_train_noisy[i] = cv2.blur(x_train[i], (5,5))\n",
    "    x_train_noisy[i] = x_train_noisy[i] + np.random.randn(dx,dy)*std+mean\n",
    "    if np.mod(i,1e4)==0:\n",
    "        print('progress:{}/{}'.format(i, x_train.shape[0]))\n",
    "\n",
    "# create noisy test images\n",
    "for i in range(x_test.shape[0]):\n",
    "    x_test_noisy[i] = cv2.blur(x_test[i], (5,5))\n",
    "    x_test_noisy[i] = x_test_noisy[i] + np.random.randn(dx,dy)*std+mean\n",
    "    \n",
    "# show some examples\n",
    "plt.figure(figsize=(20,10))\n",
    "for i in range(5):\n",
    "    plt.subplot(2, 5, i+1)\n",
    "    plt.imshow(x_train[i])\n",
    "    plt.axis('off')\n",
    "    plt.title('Target', size=15)\n",
    "    \n",
    "    plt.subplot(2, 5, i+1+5)\n",
    "    plt.imshow(x_train_noisy[i])\n",
    "    plt.axis('off')\n",
    "    plt.title('Noisy', size=15)\n",
    "    "
   ]
  },
  {
   "cell_type": "code",
   "execution_count": 16,
   "metadata": {},
   "outputs": [],
   "source": [
    "# reshape the images to row vectors\n",
    "x_train_noisy = x_train_noisy.reshape(ntrain, dx*dy)\n",
    "x_test_noisy = x_test_noisy.reshape(ntest, dx*dy)"
   ]
  },
  {
   "cell_type": "code",
   "execution_count": 17,
   "metadata": {},
   "outputs": [
    {
     "name": "stdout",
     "output_type": "stream",
     "text": [
      "Epoch 1/10\n",
      "60000/60000 [==============================] - 5s 79us/step - loss: 0.0390 - accuracy: 0.0097\n",
      "Epoch 2/10\n",
      "60000/60000 [==============================] - 5s 77us/step - loss: 0.0286 - accuracy: 0.0104\n",
      "Epoch 3/10\n",
      "60000/60000 [==============================] - 5s 77us/step - loss: 0.0267 - accuracy: 0.0110\n",
      "Epoch 4/10\n",
      "60000/60000 [==============================] - 5s 77us/step - loss: 0.0257 - accuracy: 0.0121\n",
      "Epoch 5/10\n",
      "60000/60000 [==============================] - 5s 77us/step - loss: 0.0250 - accuracy: 0.0116\n",
      "Epoch 6/10\n",
      "60000/60000 [==============================] - 5s 77us/step - loss: 0.0246 - accuracy: 0.0120\n",
      "Epoch 7/10\n",
      "60000/60000 [==============================] - 5s 77us/step - loss: 0.0243 - accuracy: 0.0119\n",
      "Epoch 8/10\n",
      "60000/60000 [==============================] - 5s 77us/step - loss: 0.0240 - accuracy: 0.0120\n",
      "Epoch 9/10\n",
      "60000/60000 [==============================] - 5s 77us/step - loss: 0.0238 - accuracy: 0.0124\n",
      "Epoch 10/10\n",
      "60000/60000 [==============================] - 5s 77us/step - loss: 0.0236 - accuracy: 0.0116\n"
     ]
    }
   ],
   "source": [
    "# create denoise model\n",
    "denoiser = Sequential([\n",
    "    Dense(128, input_shape=(inp_size,), activation='relu'),\n",
    "    Dense(128, activation='relu'),\n",
    "    Dense(inp_size, activation='sigmoid')],\n",
    "    name='Img_Denoiser')\n",
    "\n",
    "# compile model\n",
    "denoiser.compile(optimizer='Adam',\n",
    "                loss='mse',\n",
    "                metrics=['accuracy']\n",
    "                )\n",
    "\n",
    "# train the model\n",
    "history2 = denoiser.fit(x_train_noisy, X_train,\n",
    "                       epochs=10\n",
    "                       )"
   ]
  },
  {
   "cell_type": "code",
   "execution_count": 18,
   "metadata": {},
   "outputs": [
    {
     "name": "stdout",
     "output_type": "stream",
     "text": [
      "10000/10000 [==============================] - 0s 43us/step\n",
      "loss: 0.024, acc: 0.012\n"
     ]
    }
   ],
   "source": [
    "results = denoiser.evaluate(x_test_noisy, X_test)\n",
    "print('loss: {:.3f}, acc: {:.3f}'.format(results[0],results[1]))"
   ]
  },
  {
   "cell_type": "code",
   "execution_count": 19,
   "metadata": {},
   "outputs": [
    {
     "data": {
      "image/png": "[encoded data removed]",
      "text/plain": [
       "<Figure size 1440x720 with 15 Axes>"
      ]
     },
     "metadata": {
      "needs_background": "light"
     },
     "output_type": "display_data"
    }
   ],
   "source": [
    "# make some predictions\n",
    "predict = denoiser.predict(x_test_noisy[0:5])\n",
    "predict = predict.reshape(predict.shape[0], dx, dy)\n",
    "noisy = x_test_noisy.reshape(x_test_noisy.shape[0], dx, dy)\n",
    "\n",
    "plt.figure(figsize=(20, 10))\n",
    "for i in range(5):\n",
    "    plt.subplot(3, 5, i+1)\n",
    "    plt.imshow(x_test[i])\n",
    "    plt.axis('off')\n",
    "    plt.title('Target', size=15)\n",
    "\n",
    "    plt.subplot(3, 5, i+6)\n",
    "    plt.imshow(noisy[i])\n",
    "    plt.axis('off')\n",
    "    plt.title('Noisy image', size=15)\n",
    "    \n",
    "    plt.subplot(3, 5, i+11)\n",
    "    plt.imshow(predict[i])\n",
    "    plt.axis('off')\n",
    "    plt.title('Prediction', size=15)"
   ]
  },
  {
   "cell_type": "markdown",
   "metadata": {},
   "source": [
    "It's not perfect, but pretty impressive. I used sigmoid activations because I knew the output was binary but the rest is mainly trial and error. It's better to use convolutional neural networks (CNNs) for dealing with images which should show even better results with less computational cost. I have another tutorial on what they are and how they work."
   ]
  }
 ],
 "metadata": {
  "kernelspec": {
   "display_name": "Python 3",
   "language": "python",
   "name": "python3"
  },
  "language_info": {
   "codemirror_mode": {
    "name": "ipython",
    "version": 3
   },
   "file_extension": ".py",
   "mimetype": "text/x-python",
   "name": "python",
   "nbconvert_exporter": "python",
   "pygments_lexer": "ipython3",
   "version": "3.7.7"
  }
 },
 "nbformat": 4,
 "nbformat_minor": 4
}
